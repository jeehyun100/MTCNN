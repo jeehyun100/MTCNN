{
  "nbformat": 4,
  "nbformat_minor": 0,
  "metadata": {
    "colab": {
      "name": "cartpole_gym.ipynb",
      "provenance": [],
      "include_colab_link": true
    },
    "kernelspec": {
      "name": "python3",
      "display_name": "Python 3"
    }
  },
  "cells": [
    {
      "cell_type": "markdown",
      "metadata": {
        "id": "view-in-github",
        "colab_type": "text"
      },
      "source": [
        "<a href=\"https://colab.research.google.com/github/jeehyun100/MTCNN/blob/master/cartpole_gym.ipynb\" target=\"_parent\"><img src=\"https://colab.research.google.com/assets/colab-badge.svg\" alt=\"Open In Colab\"/></a>"
      ]
    },
    {
      "cell_type": "markdown",
      "metadata": {
        "id": "IShX2FYA0Z00",
        "colab_type": "text"
      },
      "source": [
        "# Cart Pole 봉세우기"
      ]
    },
    {
      "cell_type": "code",
      "metadata": {
        "id": "N6LBJrvN1Rke",
        "colab_type": "code",
        "colab": {
          "base_uri": "https://localhost:8080/",
          "height": 63
        },
        "outputId": "ca883ca4-a5c9-4a66-a376-fe29b82876d2"
      },
      "source": [
        "import numpy as np\n",
        "import tensorflow as tf\n",
        "import random\n",
        "import gym\n",
        "from collections import deque"
      ],
      "execution_count": 4,
      "outputs": [
        {
          "output_type": "display_data",
          "data": {
            "text/html": [
              "<p style=\"color: red;\">\n",
              "The default version of TensorFlow in Colab will soon switch to TensorFlow 2.x.<br>\n",
              "We recommend you <a href=\"https://www.tensorflow.org/guide/migrate\" target=\"_blank\">upgrade</a> now \n",
              "or ensure your notebook will continue to use TensorFlow 1.x via the <code>%tensorflow_version 1.x</code> magic:\n",
              "<a href=\"https://colab.research.google.com/notebooks/tensorflow_version.ipynb\" target=\"_blank\">more info</a>.</p>\n"
            ],
            "text/plain": [
              "<IPython.core.display.HTML object>"
            ]
          },
          "metadata": {
            "tags": []
          }
        }
      ]
    },
    {
      "cell_type": "markdown",
      "metadata": {
        "id": "VuAPj9QEVH_p",
        "colab_type": "text"
      },
      "source": [
        "# Openai Gym 및 ipython display Setting\n",
        "## colab에서 gym 환경을 plotting해서 볼수 있게 설정"
      ]
    },
    {
      "cell_type": "code",
      "metadata": {
        "id": "j2u6k8GkkCjG",
        "colab_type": "code",
        "outputId": "65d27b9f-35ed-4c80-f290-05434f152450",
        "colab": {
          "base_uri": "https://localhost:8080/",
          "height": 71
        }
      },
      "source": [
        "!apt-get install -y xvfb python-opengl > /dev/null 2>&1\n",
        "!pip install gym pyvirtualdisplay > /dev/null 2>&1\n",
        "\n",
        "!apt-get install x11-utils > /dev/null 2>&1 and !pip install pyglet==v1.3.\n",
        "!pip install gym --upgrade > /dev/null 2>&1\n",
        "import matplotlib.pyplot as plt\n",
        "from IPython import display as ipythondisplay\n",
        "from pyvirtualdisplay import Display\n",
        "display = Display(visible=0, size=(400, 300))\n",
        "display.start()"
      ],
      "execution_count": 1,
      "outputs": [
        {
          "output_type": "stream",
          "text": [
            "xdpyinfo was not found, X start can not be checked! Please install xdpyinfo!\n"
          ],
          "name": "stderr"
        },
        {
          "output_type": "execute_result",
          "data": {
            "text/plain": [
              "<Display cmd_param=['Xvfb', '-br', '-nolisten', 'tcp', '-screen', '0', '400x300x24', ':1001'] cmd=['Xvfb', '-br', '-nolisten', 'tcp', '-screen', '0', '400x300x24', ':1001'] oserror=None return_code=None stdout=\"None\" stderr=\"None\" timeout_happened=False>"
            ]
          },
          "metadata": {
            "tags": []
          },
          "execution_count": 1
        }
      ]
    },
    {
      "cell_type": "code",
      "metadata": {
        "id": "KI3TCY1AlHSp",
        "colab_type": "code",
        "outputId": "d4263a91-1c11-404f-91b8-ffddaa0d2567",
        "colab": {
          "base_uri": "https://localhost:8080/",
          "height": 51
        }
      },
      "source": [
        "!pip install pyglet"
      ],
      "execution_count": 2,
      "outputs": [
        {
          "output_type": "stream",
          "text": [
            "Requirement already satisfied: pyglet in /usr/local/lib/python3.6/dist-packages (1.3.2)\n",
            "Requirement already satisfied: future in /usr/local/lib/python3.6/dist-packages (from pyglet) (0.16.0)\n"
          ],
          "name": "stdout"
        }
      ]
    },
    {
      "cell_type": "markdown",
      "metadata": {
        "id": "ariPA1qyL9Xa",
        "colab_type": "text"
      },
      "source": [
        "# Cartpole 문제정의\n",
        "## 이 게임은 손 위에 막대를 세워놓고, 막대가 쓰러지지 않도록 하는 게임입니다.\n",
        "\n",
        "ㆍObservation : [x, θ, dx/dt, dθ/dt]\n",
        "- x : track 상에서 cart의 위치\n",
        "- θ : pole과 normal line과의 각도\n",
        "- dx/dt : cart의 속도\n",
        "- dθ/dt : θ의 각속도\n",
        "\n",
        "ㆍEnding condition(of episode)\n",
        " 1.   θ가 15˚이상\n",
        " 2.   원점(O: cetroid of track)으로부터의 거리가 2.4 units이상 \n",
        "\n",
        "ㆍAction : cart의 가하는 힘의 방향 (0 or 1)\n",
        "\n",
        "ㆍReward : episode가 유지되는 시간\n",
        "\n",
        "ㆍObjective : Ending condition을 피하며 reward를 최대로(pole의 균형을 오랫동안 유지)\n"
      ]
    },
    {
      "cell_type": "code",
      "metadata": {
        "id": "QJzgZtWZLKYj",
        "colab_type": "code",
        "outputId": "2ed8ee45-82a0-41c0-e2b8-8df080070a01",
        "colab": {
          "base_uri": "https://localhost:8080/",
          "height": 337
        }
      },
      "source": [
        "from pyvirtualdisplay import Display\n",
        "Display().start()\n",
        "\n",
        "import gym\n",
        "from IPython import display\n",
        "import matplotlib.pyplot as plt\n",
        "%matplotlib inline\n",
        "\n",
        "env = gym.make('CartPole-v0')\n",
        "state = env.reset()\n",
        "img = plt.imshow(env.render('rgb_array'))\n",
        "with tf.Session() as sess:\n",
        "\n",
        "    #mainDQN = DQN(sess, INPUT_SIZE, OUTPUT_SIZE)\n",
        "    init = tf.global_variables_initializer()\n",
        "    #mainDQN.load(\"dqn_v1\")\n",
        "    for _ in range(50):\n",
        "        img.set_data(env.render('rgb_array')) # just update the data\n",
        "        display.display(plt.gcf())\n",
        "        display.clear_output(wait=True)\n",
        "        action = env.action_space.sample()\n",
        "        #action = np.argmax(mainDQN.predict(state))\n",
        "        print()\n",
        "        next_state, reward, done, _ = env.step(action)\n",
        "        state = next_state\n",
        "        print(\"action, state : {0} {1}\".format(action,state ))\n",
        "print(\"Input space {0}\".format(env.observation_space.shape[0]))\n",
        "print(\"Output space(Action) {0}\".format(env.action_space.n))\n"
      ],
      "execution_count": 5,
      "outputs": [
        {
          "output_type": "stream",
          "text": [
            "\n",
            "action, state : 1 [ 0.68719519  0.77074522 -0.84255078 -2.68567873]\n",
            "Input space 4\n",
            "Output space(Action) 2\n"
          ],
          "name": "stdout"
        },
        {
          "output_type": "display_data",
          "data": {
            "image/png": "[encoded data removed]",
            "text/plain": [
              "<Figure size 432x288 with 1 Axes>"
            ]
          },
          "metadata": {
            "tags": []
          }
        }
      ]
    }
  ]
}